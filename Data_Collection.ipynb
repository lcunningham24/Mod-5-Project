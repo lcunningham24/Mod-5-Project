{
 "cells": [
  {
   "cell_type": "code",
   "execution_count": 1,
   "metadata": {},
   "outputs": [],
   "source": [
    "# importing necessary libraries\n",
    "import pandas as pd \n",
    "import numpy as np\n",
    "import requests\n",
    "import json\n",
    "import datetime\n",
    "import spotipy\n",
    "import spotipy.oauth2 as oauth2\n",
    "from spotipy.oauth2 import SpotifyClientCredentials\n",
    "from tqdm.notebook import tqdm\n",
    "import time"
   ]
  },
  {
   "cell_type": "markdown",
   "metadata": {},
   "source": [
    "# Billboard Weekly Hot 100 "
   ]
  },
  {
   "cell_type": "code",
   "execution_count": 2,
   "metadata": {},
   "outputs": [],
   "source": [
    "top100_df = pd.read_csv('billboardHot100_1999-2019.csv')"
   ]
  },
  {
   "cell_type": "code",
   "execution_count": 3,
   "metadata": {},
   "outputs": [
    {
     "data": {
      "text/plain": [
       "(97225, 12)"
      ]
     },
     "execution_count": 3,
     "metadata": {},
     "output_type": "execute_result"
    }
   ],
   "source": [
    "top100_df.shape"
   ]
  },
  {
   "cell_type": "markdown",
   "metadata": {},
   "source": [
    "creating year column"
   ]
  },
  {
   "cell_type": "code",
   "execution_count": 4,
   "metadata": {},
   "outputs": [],
   "source": [
    "top100_df['year'] = pd.DatetimeIndex(top100_df['Week']).year"
   ]
  },
  {
   "cell_type": "code",
   "execution_count": 5,
   "metadata": {
    "scrolled": true
   },
   "outputs": [
    {
     "data": {
      "text/plain": [
       "2017    5103\n",
       "2018    5050\n",
       "2009    5000\n",
       "2016    4952\n",
       "2012    4895\n",
       "2004    4891\n",
       "2010    4885\n",
       "2011    4855\n",
       "2006    4846\n",
       "2013    4840\n",
       "2014    4829\n",
       "2003    4829\n",
       "2000    4822\n",
       "2015    4806\n",
       "2008    4803\n",
       "2005    4791\n",
       "2001    4742\n",
       "2002    4740\n",
       "2007    4648\n",
       "2019    2665\n",
       "1999    2233\n",
       "Name: year, dtype: int64"
      ]
     },
     "execution_count": 5,
     "metadata": {},
     "output_type": "execute_result"
    }
   ],
   "source": [
    "top100_df['year'].value_counts()"
   ]
  },
  {
   "cell_type": "markdown",
   "metadata": {},
   "source": [
    "narrowing dataframe down to just be 2018-2019"
   ]
  },
  {
   "cell_type": "code",
   "execution_count": 6,
   "metadata": {},
   "outputs": [],
   "source": [
    "top100_df['year_category'] = np.where(top100_df['year']>=2018,1,0)"
   ]
  },
  {
   "cell_type": "code",
   "execution_count": 7,
   "metadata": {},
   "outputs": [
    {
     "data": {
      "text/plain": [
       "0    89510\n",
       "1     7715\n",
       "Name: year_category, dtype: int64"
      ]
     },
     "execution_count": 7,
     "metadata": {},
     "output_type": "execute_result"
    }
   ],
   "source": [
    "top100_df['year_category'].value_counts()"
   ]
  },
  {
   "cell_type": "code",
   "execution_count": 144,
   "metadata": {},
   "outputs": [],
   "source": [
    "df_billboard = top100_df[top100_df['year_category']==1]"
   ]
  },
  {
   "cell_type": "code",
   "execution_count": 145,
   "metadata": {},
   "outputs": [],
   "source": [
    "df_billboard = df_billboard[['Artists','Name','Weekly.rank','Peak.position','Weeks.on.chart','Week','Date','Genre','Lyrics','Features']]"
   ]
  },
  {
   "cell_type": "code",
   "execution_count": 147,
   "metadata": {
    "scrolled": true
   },
   "outputs": [
    {
     "data": {
      "text/plain": [
       "(7715, 10)"
      ]
     },
     "execution_count": 147,
     "metadata": {},
     "output_type": "execute_result"
    }
   ],
   "source": [
    "df_billboard.shape"
   ]
  },
  {
   "cell_type": "markdown",
   "metadata": {},
   "source": [
    "# Spotify API"
   ]
  },
  {
   "cell_type": "code",
   "execution_count": null,
   "metadata": {},
   "outputs": [],
   "source": [
    "def get_names():\n",
    "    song_names = []\n",
    "    for i in range(0,len(df)):\n",
    "        name = df['Name'][i]\n",
    "        song_names.append(name)\n",
    "    return song_names\n",
    "song_names = get_names()"
   ]
  },
  {
   "cell_type": "code",
   "execution_count": 14,
   "metadata": {},
   "outputs": [],
   "source": [
    "# Spotify authentication for API calls\n",
    "client_credentials_manager = SpotifyClientCredentials(client_id='930ca0608ac240ebb00350e101971444', client_secret='721f34eeee0746c49565619d88fcb6c5')\n",
    "sp = spotipy.Spotify(client_credentials_manager=client_credentials_manager, requests_timeout=4)"
   ]
  },
  {
   "cell_type": "code",
   "execution_count": 16,
   "metadata": {},
   "outputs": [
    {
     "data": {
      "text/plain": [
       "7715"
      ]
     },
     "execution_count": 16,
     "metadata": {},
     "output_type": "execute_result"
    }
   ],
   "source": [
    "# creating list of artists \n",
    "def get_artists():\n",
    "    artists = []\n",
    "    for i in range(0,len(df)):\n",
    "        artist = df['Artists'][i]\n",
    "        artists.append(artist)\n",
    "    return artists\n",
    "list_artists = get_artists()\n",
    "len(list_artists)"
   ]
  },
  {
   "cell_type": "code",
   "execution_count": 18,
   "metadata": {
    "scrolled": true
   },
   "outputs": [],
   "source": [
    "# calling spotify API to get artist info \n",
    "def get_artist_info(list_artists):\n",
    "    \"\"\"Takes a list of artists and makes spotify API call\"\"\"\n",
    "    results = []\n",
    "    for artist in list_artists:\n",
    "        results.append(sp.search(q=f'{artist}', type=\"artist\", limit=1))\n",
    "    return results\n",
    "artist_info = get_artist_info(list_artists)"
   ]
  },
  {
   "cell_type": "code",
   "execution_count": 20,
   "metadata": {
    "scrolled": true
   },
   "outputs": [],
   "source": [
    "# creating list of song names \n",
    "def get_names():\n",
    "    song_names = []\n",
    "    for i in range(0,len(df)):\n",
    "        name = df['Name'][i]\n",
    "        song_names.append(name)\n",
    "    return song_names\n",
    "song_names = get_names()"
   ]
  },
  {
   "cell_type": "code",
   "execution_count": 21,
   "metadata": {},
   "outputs": [],
   "source": [
    "# calling spotify API to get song info\n",
    "def get_song_info(song_names):\n",
    "    \"\"\"Takes a list of artists and makes spotify API call\"\"\"\n",
    "    results = []\n",
    "    for song in song_names:\n",
    "        results.append(sp.search(q=f'{song}', type=\"track\", limit=1))\n",
    "    return results\n",
    "song_info = get_song_info(song_names)"
   ]
  },
  {
   "cell_type": "code",
   "execution_count": 23,
   "metadata": {
    "scrolled": true
   },
   "outputs": [
    {
     "data": {
      "text/plain": [
       "'2YpeDb67231RjR0MgVLzsG'"
      ]
     },
     "execution_count": 23,
     "metadata": {},
     "output_type": "execute_result"
    }
   ],
   "source": [
    "song_info[0]['tracks']['items'][0]['id']"
   ]
  },
  {
   "cell_type": "code",
   "execution_count": 24,
   "metadata": {},
   "outputs": [],
   "source": [
    "def get_ids():\n",
    "    song_ids = []\n",
    "    for i in range(0,len(song_info)): \n",
    "        song_id = song_info[i]['tracks']['items'][0]['id']\n",
    "        song_ids.append(song_id)\n",
    "    return song_ids\n",
    "song_ids = get_ids()"
   ]
  },
  {
   "cell_type": "code",
   "execution_count": 27,
   "metadata": {
    "scrolled": true
   },
   "outputs": [
    {
     "data": {
      "application/vnd.jupyter.widget-view+json": {
       "model_id": "08b30a280ad54dbf82078b1f3022d5b2",
       "version_major": 2,
       "version_minor": 0
      },
      "text/plain": [
       "HBox(children=(IntProgress(value=0, max=7715), HTML(value='')))"
      ]
     },
     "metadata": {},
     "output_type": "display_data"
    },
    {
     "name": "stdout",
     "output_type": "stream",
     "text": [
      "\n"
     ]
    }
   ],
   "source": [
    "# getting audio features using song ids \n",
    "audio_features = []\n",
    "for thing in tqdm(song_ids):\n",
    "    audio_features.append((sp.audio_features([f'{thing}'])))"
   ]
  },
  {
   "cell_type": "code",
   "execution_count": 149,
   "metadata": {
    "scrolled": false
   },
   "outputs": [],
   "source": [
    "# appending my dictionaries to a new list to create dataframe\n",
    "list_of_dicts = []\n",
    "for i in range(0,(len(audio_features))): \n",
    "    list_of_dicts.append(audio_features[i][0])"
   ]
  },
  {
   "cell_type": "code",
   "execution_count": 150,
   "metadata": {
    "scrolled": true
   },
   "outputs": [
    {
     "data": {
      "text/html": [
       "<div>\n",
       "<style scoped>\n",
       "    .dataframe tbody tr th:only-of-type {\n",
       "        vertical-align: middle;\n",
       "    }\n",
       "\n",
       "    .dataframe tbody tr th {\n",
       "        vertical-align: top;\n",
       "    }\n",
       "\n",
       "    .dataframe thead th {\n",
       "        text-align: right;\n",
       "    }\n",
       "</style>\n",
       "<table border=\"1\" class=\"dataframe\">\n",
       "  <thead>\n",
       "    <tr style=\"text-align: right;\">\n",
       "      <th></th>\n",
       "      <th>danceability</th>\n",
       "      <th>energy</th>\n",
       "      <th>key</th>\n",
       "      <th>loudness</th>\n",
       "      <th>mode</th>\n",
       "      <th>speechiness</th>\n",
       "      <th>acousticness</th>\n",
       "      <th>instrumentalness</th>\n",
       "      <th>liveness</th>\n",
       "      <th>valence</th>\n",
       "      <th>tempo</th>\n",
       "      <th>type</th>\n",
       "      <th>id</th>\n",
       "      <th>uri</th>\n",
       "      <th>track_href</th>\n",
       "      <th>analysis_url</th>\n",
       "      <th>duration_ms</th>\n",
       "      <th>time_signature</th>\n",
       "    </tr>\n",
       "  </thead>\n",
       "  <tbody>\n",
       "    <tr>\n",
       "      <td>0</td>\n",
       "      <td>0.878</td>\n",
       "      <td>0.619</td>\n",
       "      <td>6</td>\n",
       "      <td>-5.560</td>\n",
       "      <td>1</td>\n",
       "      <td>0.1020</td>\n",
       "      <td>0.0533</td>\n",
       "      <td>0.00</td>\n",
       "      <td>0.1130</td>\n",
       "      <td>0.639</td>\n",
       "      <td>136.041</td>\n",
       "      <td>audio_features</td>\n",
       "      <td>2YpeDb67231RjR0MgVLzsG</td>\n",
       "      <td>spotify:track:2YpeDb67231RjR0MgVLzsG</td>\n",
       "      <td>https://api.spotify.com/v1/tracks/2YpeDb67231R...</td>\n",
       "      <td>https://api.spotify.com/v1/audio-analysis/2Ype...</td>\n",
       "      <td>157067</td>\n",
       "      <td>4</td>\n",
       "    </tr>\n",
       "    <tr>\n",
       "      <td>1</td>\n",
       "      <td>0.759</td>\n",
       "      <td>0.540</td>\n",
       "      <td>9</td>\n",
       "      <td>-6.039</td>\n",
       "      <td>0</td>\n",
       "      <td>0.0287</td>\n",
       "      <td>0.0370</td>\n",
       "      <td>0.00</td>\n",
       "      <td>0.0945</td>\n",
       "      <td>0.750</td>\n",
       "      <td>116.947</td>\n",
       "      <td>audio_features</td>\n",
       "      <td>0TK2YIli7K1leLovkQiNik</td>\n",
       "      <td>spotify:track:0TK2YIli7K1leLovkQiNik</td>\n",
       "      <td>https://api.spotify.com/v1/tracks/0TK2YIli7K1l...</td>\n",
       "      <td>https://api.spotify.com/v1/audio-analysis/0TK2...</td>\n",
       "      <td>190960</td>\n",
       "      <td>4</td>\n",
       "    </tr>\n",
       "    <tr>\n",
       "      <td>2</td>\n",
       "      <td>0.701</td>\n",
       "      <td>0.425</td>\n",
       "      <td>7</td>\n",
       "      <td>-10.965</td>\n",
       "      <td>1</td>\n",
       "      <td>0.3750</td>\n",
       "      <td>0.3280</td>\n",
       "      <td>0.13</td>\n",
       "      <td>0.1000</td>\n",
       "      <td>0.562</td>\n",
       "      <td>135.128</td>\n",
       "      <td>audio_features</td>\n",
       "      <td>2Fxmhks0bxGSBdJ92vM42m</td>\n",
       "      <td>spotify:track:2Fxmhks0bxGSBdJ92vM42m</td>\n",
       "      <td>https://api.spotify.com/v1/tracks/2Fxmhks0bxGS...</td>\n",
       "      <td>https://api.spotify.com/v1/audio-analysis/2Fxm...</td>\n",
       "      <td>194088</td>\n",
       "      <td>4</td>\n",
       "    </tr>\n",
       "    <tr>\n",
       "      <td>3</td>\n",
       "      <td>0.523</td>\n",
       "      <td>0.606</td>\n",
       "      <td>1</td>\n",
       "      <td>-4.754</td>\n",
       "      <td>0</td>\n",
       "      <td>0.0301</td>\n",
       "      <td>0.5120</td>\n",
       "      <td>0.00</td>\n",
       "      <td>0.1060</td>\n",
       "      <td>0.065</td>\n",
       "      <td>145.837</td>\n",
       "      <td>audio_features</td>\n",
       "      <td>161DnLWsx1i3u1JT05lzqU</td>\n",
       "      <td>spotify:track:161DnLWsx1i3u1JT05lzqU</td>\n",
       "      <td>https://api.spotify.com/v1/tracks/161DnLWsx1i3...</td>\n",
       "      <td>https://api.spotify.com/v1/audio-analysis/161D...</td>\n",
       "      <td>217867</td>\n",
       "      <td>4</td>\n",
       "    </tr>\n",
       "    <tr>\n",
       "      <td>4</td>\n",
       "      <td>0.798</td>\n",
       "      <td>0.675</td>\n",
       "      <td>6</td>\n",
       "      <td>-5.041</td>\n",
       "      <td>1</td>\n",
       "      <td>0.0442</td>\n",
       "      <td>0.0912</td>\n",
       "      <td>0.00</td>\n",
       "      <td>0.0894</td>\n",
       "      <td>0.842</td>\n",
       "      <td>101.956</td>\n",
       "      <td>audio_features</td>\n",
       "      <td>3HVWdVOQ0ZA45FuZGSfvns</td>\n",
       "      <td>spotify:track:3HVWdVOQ0ZA45FuZGSfvns</td>\n",
       "      <td>https://api.spotify.com/v1/tracks/3HVWdVOQ0ZA4...</td>\n",
       "      <td>https://api.spotify.com/v1/audio-analysis/3HVW...</td>\n",
       "      <td>219947</td>\n",
       "      <td>4</td>\n",
       "    </tr>\n",
       "  </tbody>\n",
       "</table>\n",
       "</div>"
      ],
      "text/plain": [
       "   danceability  energy  key  loudness  mode  speechiness  acousticness  \\\n",
       "0         0.878   0.619    6    -5.560     1       0.1020        0.0533   \n",
       "1         0.759   0.540    9    -6.039     0       0.0287        0.0370   \n",
       "2         0.701   0.425    7   -10.965     1       0.3750        0.3280   \n",
       "3         0.523   0.606    1    -4.754     0       0.0301        0.5120   \n",
       "4         0.798   0.675    6    -5.041     1       0.0442        0.0912   \n",
       "\n",
       "   instrumentalness  liveness  valence    tempo            type  \\\n",
       "0              0.00    0.1130    0.639  136.041  audio_features   \n",
       "1              0.00    0.0945    0.750  116.947  audio_features   \n",
       "2              0.13    0.1000    0.562  135.128  audio_features   \n",
       "3              0.00    0.1060    0.065  145.837  audio_features   \n",
       "4              0.00    0.0894    0.842  101.956  audio_features   \n",
       "\n",
       "                       id                                   uri  \\\n",
       "0  2YpeDb67231RjR0MgVLzsG  spotify:track:2YpeDb67231RjR0MgVLzsG   \n",
       "1  0TK2YIli7K1leLovkQiNik  spotify:track:0TK2YIli7K1leLovkQiNik   \n",
       "2  2Fxmhks0bxGSBdJ92vM42m  spotify:track:2Fxmhks0bxGSBdJ92vM42m   \n",
       "3  161DnLWsx1i3u1JT05lzqU  spotify:track:161DnLWsx1i3u1JT05lzqU   \n",
       "4  3HVWdVOQ0ZA45FuZGSfvns  spotify:track:3HVWdVOQ0ZA45FuZGSfvns   \n",
       "\n",
       "                                          track_href  \\\n",
       "0  https://api.spotify.com/v1/tracks/2YpeDb67231R...   \n",
       "1  https://api.spotify.com/v1/tracks/0TK2YIli7K1l...   \n",
       "2  https://api.spotify.com/v1/tracks/2Fxmhks0bxGS...   \n",
       "3  https://api.spotify.com/v1/tracks/161DnLWsx1i3...   \n",
       "4  https://api.spotify.com/v1/tracks/3HVWdVOQ0ZA4...   \n",
       "\n",
       "                                        analysis_url  duration_ms  \\\n",
       "0  https://api.spotify.com/v1/audio-analysis/2Ype...       157067   \n",
       "1  https://api.spotify.com/v1/audio-analysis/0TK2...       190960   \n",
       "2  https://api.spotify.com/v1/audio-analysis/2Fxm...       194088   \n",
       "3  https://api.spotify.com/v1/audio-analysis/161D...       217867   \n",
       "4  https://api.spotify.com/v1/audio-analysis/3HVW...       219947   \n",
       "\n",
       "   time_signature  \n",
       "0               4  \n",
       "1               4  \n",
       "2               4  \n",
       "3               4  \n",
       "4               4  "
      ]
     },
     "execution_count": 150,
     "metadata": {},
     "output_type": "execute_result"
    }
   ],
   "source": [
    "df_audio = pd.DataFrame(list_of_dicts)\n",
    "df_audio.head()"
   ]
  },
  {
   "cell_type": "code",
   "execution_count": 158,
   "metadata": {},
   "outputs": [],
   "source": [
    "df_audio.to_csv('audio_features.csv')"
   ]
  },
  {
   "cell_type": "code",
   "execution_count": 152,
   "metadata": {},
   "outputs": [
    {
     "data": {
      "text/html": [
       "<div>\n",
       "<style scoped>\n",
       "    .dataframe tbody tr th:only-of-type {\n",
       "        vertical-align: middle;\n",
       "    }\n",
       "\n",
       "    .dataframe tbody tr th {\n",
       "        vertical-align: top;\n",
       "    }\n",
       "\n",
       "    .dataframe thead th {\n",
       "        text-align: right;\n",
       "    }\n",
       "</style>\n",
       "<table border=\"1\" class=\"dataframe\">\n",
       "  <thead>\n",
       "    <tr style=\"text-align: right;\">\n",
       "      <th></th>\n",
       "      <th>Artists</th>\n",
       "      <th>Name</th>\n",
       "      <th>Weekly.rank</th>\n",
       "      <th>Peak.position</th>\n",
       "      <th>Weeks.on.chart</th>\n",
       "      <th>Week</th>\n",
       "      <th>Date</th>\n",
       "      <th>Genre</th>\n",
       "      <th>Lyrics</th>\n",
       "      <th>Features</th>\n",
       "    </tr>\n",
       "  </thead>\n",
       "  <tbody>\n",
       "    <tr>\n",
       "      <td>0</td>\n",
       "      <td>Lil Nas,</td>\n",
       "      <td>Old Town Road</td>\n",
       "      <td>1</td>\n",
       "      <td>1.0</td>\n",
       "      <td>7.0</td>\n",
       "      <td>2019-07-06</td>\n",
       "      <td>April 5, 2019</td>\n",
       "      <td>Country,Atlanta,Alternative Country,Hip-Hop,Tr...</td>\n",
       "      <td>Old Town Road Remix \\nOh, oh-oh\\nOh\\nYeah, I'm...</td>\n",
       "      <td>Billy Ray Cyrus</td>\n",
       "    </tr>\n",
       "    <tr>\n",
       "      <td>1</td>\n",
       "      <td>Shawn Mendes, Camila Cabello</td>\n",
       "      <td>Senorita</td>\n",
       "      <td>2</td>\n",
       "      <td>NaN</td>\n",
       "      <td>NaN</td>\n",
       "      <td>2019-07-06</td>\n",
       "      <td>June 21, 2019</td>\n",
       "      <td>Pop</td>\n",
       "      <td>Senorita \\nI love it when you call me senorita...</td>\n",
       "      <td>NaN</td>\n",
       "    </tr>\n",
       "    <tr>\n",
       "      <td>2</td>\n",
       "      <td>Billie Eilish</td>\n",
       "      <td>Bad Guy</td>\n",
       "      <td>3</td>\n",
       "      <td>2.0</td>\n",
       "      <td>13.0</td>\n",
       "      <td>2019-07-06</td>\n",
       "      <td>March 29, 2019</td>\n",
       "      <td>Hip-Hop,Dark Pop,House,Trap,Memes,Alternative ...</td>\n",
       "      <td>bad guy \\nWhite shirt now red, my bloody nose\\...</td>\n",
       "      <td>NaN</td>\n",
       "    </tr>\n",
       "    <tr>\n",
       "      <td>3</td>\n",
       "      <td>Khalid</td>\n",
       "      <td>Talk</td>\n",
       "      <td>4</td>\n",
       "      <td>3.0</td>\n",
       "      <td>20.0</td>\n",
       "      <td>2019-07-06</td>\n",
       "      <td>February 7, 2019</td>\n",
       "      <td>Synth-Pop,Pop</td>\n",
       "      <td>Talk \\nCan we just talk? Can we just talk?\\nTa...</td>\n",
       "      <td>NaN</td>\n",
       "    </tr>\n",
       "    <tr>\n",
       "      <td>4</td>\n",
       "      <td>Ed Sheeran, Justin Bieber</td>\n",
       "      <td>I Don't Care</td>\n",
       "      <td>5</td>\n",
       "      <td>2.0</td>\n",
       "      <td>7.0</td>\n",
       "      <td>2019-07-06</td>\n",
       "      <td>May 10, 2019</td>\n",
       "      <td>Canada,UK,Dance,Dance-Pop,Pop</td>\n",
       "      <td>I Don't Care \\nI'm at a party I don't wanna be...</td>\n",
       "      <td>NaN</td>\n",
       "    </tr>\n",
       "  </tbody>\n",
       "</table>\n",
       "</div>"
      ],
      "text/plain": [
       "                        Artists           Name  Weekly.rank  Peak.position  \\\n",
       "0                      Lil Nas,  Old Town Road            1            1.0   \n",
       "1  Shawn Mendes, Camila Cabello       Senorita            2            NaN   \n",
       "2                 Billie Eilish        Bad Guy            3            2.0   \n",
       "3                        Khalid           Talk            4            3.0   \n",
       "4     Ed Sheeran, Justin Bieber   I Don't Care            5            2.0   \n",
       "\n",
       "   Weeks.on.chart        Week              Date  \\\n",
       "0             7.0  2019-07-06     April 5, 2019   \n",
       "1             NaN  2019-07-06     June 21, 2019   \n",
       "2            13.0  2019-07-06    March 29, 2019   \n",
       "3            20.0  2019-07-06  February 7, 2019   \n",
       "4             7.0  2019-07-06      May 10, 2019   \n",
       "\n",
       "                                               Genre  \\\n",
       "0  Country,Atlanta,Alternative Country,Hip-Hop,Tr...   \n",
       "1                                                Pop   \n",
       "2  Hip-Hop,Dark Pop,House,Trap,Memes,Alternative ...   \n",
       "3                                      Synth-Pop,Pop   \n",
       "4                      Canada,UK,Dance,Dance-Pop,Pop   \n",
       "\n",
       "                                              Lyrics         Features  \n",
       "0  Old Town Road Remix \\nOh, oh-oh\\nOh\\nYeah, I'm...  Billy Ray Cyrus  \n",
       "1  Senorita \\nI love it when you call me senorita...              NaN  \n",
       "2  bad guy \\nWhite shirt now red, my bloody nose\\...              NaN  \n",
       "3  Talk \\nCan we just talk? Can we just talk?\\nTa...              NaN  \n",
       "4  I Don't Care \\nI'm at a party I don't wanna be...              NaN  "
      ]
     },
     "execution_count": 152,
     "metadata": {},
     "output_type": "execute_result"
    }
   ],
   "source": [
    "df_billboard.head()"
   ]
  },
  {
   "cell_type": "code",
   "execution_count": 153,
   "metadata": {},
   "outputs": [
    {
     "data": {
      "text/html": [
       "<div>\n",
       "<style scoped>\n",
       "    .dataframe tbody tr th:only-of-type {\n",
       "        vertical-align: middle;\n",
       "    }\n",
       "\n",
       "    .dataframe tbody tr th {\n",
       "        vertical-align: top;\n",
       "    }\n",
       "\n",
       "    .dataframe thead th {\n",
       "        text-align: right;\n",
       "    }\n",
       "</style>\n",
       "<table border=\"1\" class=\"dataframe\">\n",
       "  <thead>\n",
       "    <tr style=\"text-align: right;\">\n",
       "      <th></th>\n",
       "      <th>Artists</th>\n",
       "      <th>Name</th>\n",
       "      <th>Weekly.rank</th>\n",
       "      <th>Peak.position</th>\n",
       "      <th>Weeks.on.chart</th>\n",
       "      <th>Week</th>\n",
       "      <th>Date</th>\n",
       "      <th>Genre</th>\n",
       "      <th>Lyrics</th>\n",
       "      <th>Features</th>\n",
       "      <th>...</th>\n",
       "      <th>liveness</th>\n",
       "      <th>valence</th>\n",
       "      <th>tempo</th>\n",
       "      <th>type</th>\n",
       "      <th>id</th>\n",
       "      <th>uri</th>\n",
       "      <th>track_href</th>\n",
       "      <th>analysis_url</th>\n",
       "      <th>duration_ms</th>\n",
       "      <th>time_signature</th>\n",
       "    </tr>\n",
       "  </thead>\n",
       "  <tbody>\n",
       "    <tr>\n",
       "      <td>0</td>\n",
       "      <td>Lil Nas,</td>\n",
       "      <td>Old Town Road</td>\n",
       "      <td>1</td>\n",
       "      <td>1.0</td>\n",
       "      <td>7.0</td>\n",
       "      <td>2019-07-06</td>\n",
       "      <td>April 5, 2019</td>\n",
       "      <td>Country,Atlanta,Alternative Country,Hip-Hop,Tr...</td>\n",
       "      <td>Old Town Road Remix \\nOh, oh-oh\\nOh\\nYeah, I'm...</td>\n",
       "      <td>Billy Ray Cyrus</td>\n",
       "      <td>...</td>\n",
       "      <td>0.1130</td>\n",
       "      <td>0.639</td>\n",
       "      <td>136.041</td>\n",
       "      <td>audio_features</td>\n",
       "      <td>2YpeDb67231RjR0MgVLzsG</td>\n",
       "      <td>spotify:track:2YpeDb67231RjR0MgVLzsG</td>\n",
       "      <td>https://api.spotify.com/v1/tracks/2YpeDb67231R...</td>\n",
       "      <td>https://api.spotify.com/v1/audio-analysis/2Ype...</td>\n",
       "      <td>157067</td>\n",
       "      <td>4</td>\n",
       "    </tr>\n",
       "    <tr>\n",
       "      <td>1</td>\n",
       "      <td>Shawn Mendes, Camila Cabello</td>\n",
       "      <td>Senorita</td>\n",
       "      <td>2</td>\n",
       "      <td>NaN</td>\n",
       "      <td>NaN</td>\n",
       "      <td>2019-07-06</td>\n",
       "      <td>June 21, 2019</td>\n",
       "      <td>Pop</td>\n",
       "      <td>Senorita \\nI love it when you call me senorita...</td>\n",
       "      <td>NaN</td>\n",
       "      <td>...</td>\n",
       "      <td>0.0945</td>\n",
       "      <td>0.750</td>\n",
       "      <td>116.947</td>\n",
       "      <td>audio_features</td>\n",
       "      <td>0TK2YIli7K1leLovkQiNik</td>\n",
       "      <td>spotify:track:0TK2YIli7K1leLovkQiNik</td>\n",
       "      <td>https://api.spotify.com/v1/tracks/0TK2YIli7K1l...</td>\n",
       "      <td>https://api.spotify.com/v1/audio-analysis/0TK2...</td>\n",
       "      <td>190960</td>\n",
       "      <td>4</td>\n",
       "    </tr>\n",
       "    <tr>\n",
       "      <td>2</td>\n",
       "      <td>Billie Eilish</td>\n",
       "      <td>Bad Guy</td>\n",
       "      <td>3</td>\n",
       "      <td>2.0</td>\n",
       "      <td>13.0</td>\n",
       "      <td>2019-07-06</td>\n",
       "      <td>March 29, 2019</td>\n",
       "      <td>Hip-Hop,Dark Pop,House,Trap,Memes,Alternative ...</td>\n",
       "      <td>bad guy \\nWhite shirt now red, my bloody nose\\...</td>\n",
       "      <td>NaN</td>\n",
       "      <td>...</td>\n",
       "      <td>0.1000</td>\n",
       "      <td>0.562</td>\n",
       "      <td>135.128</td>\n",
       "      <td>audio_features</td>\n",
       "      <td>2Fxmhks0bxGSBdJ92vM42m</td>\n",
       "      <td>spotify:track:2Fxmhks0bxGSBdJ92vM42m</td>\n",
       "      <td>https://api.spotify.com/v1/tracks/2Fxmhks0bxGS...</td>\n",
       "      <td>https://api.spotify.com/v1/audio-analysis/2Fxm...</td>\n",
       "      <td>194088</td>\n",
       "      <td>4</td>\n",
       "    </tr>\n",
       "    <tr>\n",
       "      <td>3</td>\n",
       "      <td>Khalid</td>\n",
       "      <td>Talk</td>\n",
       "      <td>4</td>\n",
       "      <td>3.0</td>\n",
       "      <td>20.0</td>\n",
       "      <td>2019-07-06</td>\n",
       "      <td>February 7, 2019</td>\n",
       "      <td>Synth-Pop,Pop</td>\n",
       "      <td>Talk \\nCan we just talk? Can we just talk?\\nTa...</td>\n",
       "      <td>NaN</td>\n",
       "      <td>...</td>\n",
       "      <td>0.1060</td>\n",
       "      <td>0.065</td>\n",
       "      <td>145.837</td>\n",
       "      <td>audio_features</td>\n",
       "      <td>161DnLWsx1i3u1JT05lzqU</td>\n",
       "      <td>spotify:track:161DnLWsx1i3u1JT05lzqU</td>\n",
       "      <td>https://api.spotify.com/v1/tracks/161DnLWsx1i3...</td>\n",
       "      <td>https://api.spotify.com/v1/audio-analysis/161D...</td>\n",
       "      <td>217867</td>\n",
       "      <td>4</td>\n",
       "    </tr>\n",
       "    <tr>\n",
       "      <td>4</td>\n",
       "      <td>Ed Sheeran, Justin Bieber</td>\n",
       "      <td>I Don't Care</td>\n",
       "      <td>5</td>\n",
       "      <td>2.0</td>\n",
       "      <td>7.0</td>\n",
       "      <td>2019-07-06</td>\n",
       "      <td>May 10, 2019</td>\n",
       "      <td>Canada,UK,Dance,Dance-Pop,Pop</td>\n",
       "      <td>I Don't Care \\nI'm at a party I don't wanna be...</td>\n",
       "      <td>NaN</td>\n",
       "      <td>...</td>\n",
       "      <td>0.0894</td>\n",
       "      <td>0.842</td>\n",
       "      <td>101.956</td>\n",
       "      <td>audio_features</td>\n",
       "      <td>3HVWdVOQ0ZA45FuZGSfvns</td>\n",
       "      <td>spotify:track:3HVWdVOQ0ZA45FuZGSfvns</td>\n",
       "      <td>https://api.spotify.com/v1/tracks/3HVWdVOQ0ZA4...</td>\n",
       "      <td>https://api.spotify.com/v1/audio-analysis/3HVW...</td>\n",
       "      <td>219947</td>\n",
       "      <td>4</td>\n",
       "    </tr>\n",
       "  </tbody>\n",
       "</table>\n",
       "<p>5 rows × 28 columns</p>\n",
       "</div>"
      ],
      "text/plain": [
       "                        Artists           Name  Weekly.rank  Peak.position  \\\n",
       "0                      Lil Nas,  Old Town Road            1            1.0   \n",
       "1  Shawn Mendes, Camila Cabello       Senorita            2            NaN   \n",
       "2                 Billie Eilish        Bad Guy            3            2.0   \n",
       "3                        Khalid           Talk            4            3.0   \n",
       "4     Ed Sheeran, Justin Bieber   I Don't Care            5            2.0   \n",
       "\n",
       "   Weeks.on.chart        Week              Date  \\\n",
       "0             7.0  2019-07-06     April 5, 2019   \n",
       "1             NaN  2019-07-06     June 21, 2019   \n",
       "2            13.0  2019-07-06    March 29, 2019   \n",
       "3            20.0  2019-07-06  February 7, 2019   \n",
       "4             7.0  2019-07-06      May 10, 2019   \n",
       "\n",
       "                                               Genre  \\\n",
       "0  Country,Atlanta,Alternative Country,Hip-Hop,Tr...   \n",
       "1                                                Pop   \n",
       "2  Hip-Hop,Dark Pop,House,Trap,Memes,Alternative ...   \n",
       "3                                      Synth-Pop,Pop   \n",
       "4                      Canada,UK,Dance,Dance-Pop,Pop   \n",
       "\n",
       "                                              Lyrics         Features  ...  \\\n",
       "0  Old Town Road Remix \\nOh, oh-oh\\nOh\\nYeah, I'm...  Billy Ray Cyrus  ...   \n",
       "1  Senorita \\nI love it when you call me senorita...              NaN  ...   \n",
       "2  bad guy \\nWhite shirt now red, my bloody nose\\...              NaN  ...   \n",
       "3  Talk \\nCan we just talk? Can we just talk?\\nTa...              NaN  ...   \n",
       "4  I Don't Care \\nI'm at a party I don't wanna be...              NaN  ...   \n",
       "\n",
       "   liveness  valence    tempo            type                      id  \\\n",
       "0    0.1130    0.639  136.041  audio_features  2YpeDb67231RjR0MgVLzsG   \n",
       "1    0.0945    0.750  116.947  audio_features  0TK2YIli7K1leLovkQiNik   \n",
       "2    0.1000    0.562  135.128  audio_features  2Fxmhks0bxGSBdJ92vM42m   \n",
       "3    0.1060    0.065  145.837  audio_features  161DnLWsx1i3u1JT05lzqU   \n",
       "4    0.0894    0.842  101.956  audio_features  3HVWdVOQ0ZA45FuZGSfvns   \n",
       "\n",
       "                                    uri  \\\n",
       "0  spotify:track:2YpeDb67231RjR0MgVLzsG   \n",
       "1  spotify:track:0TK2YIli7K1leLovkQiNik   \n",
       "2  spotify:track:2Fxmhks0bxGSBdJ92vM42m   \n",
       "3  spotify:track:161DnLWsx1i3u1JT05lzqU   \n",
       "4  spotify:track:3HVWdVOQ0ZA45FuZGSfvns   \n",
       "\n",
       "                                          track_href  \\\n",
       "0  https://api.spotify.com/v1/tracks/2YpeDb67231R...   \n",
       "1  https://api.spotify.com/v1/tracks/0TK2YIli7K1l...   \n",
       "2  https://api.spotify.com/v1/tracks/2Fxmhks0bxGS...   \n",
       "3  https://api.spotify.com/v1/tracks/161DnLWsx1i3...   \n",
       "4  https://api.spotify.com/v1/tracks/3HVWdVOQ0ZA4...   \n",
       "\n",
       "                                        analysis_url  duration_ms  \\\n",
       "0  https://api.spotify.com/v1/audio-analysis/2Ype...       157067   \n",
       "1  https://api.spotify.com/v1/audio-analysis/0TK2...       190960   \n",
       "2  https://api.spotify.com/v1/audio-analysis/2Fxm...       194088   \n",
       "3  https://api.spotify.com/v1/audio-analysis/161D...       217867   \n",
       "4  https://api.spotify.com/v1/audio-analysis/3HVW...       219947   \n",
       "\n",
       "   time_signature  \n",
       "0               4  \n",
       "1               4  \n",
       "2               4  \n",
       "3               4  \n",
       "4               4  \n",
       "\n",
       "[5 rows x 28 columns]"
      ]
     },
     "execution_count": 153,
     "metadata": {},
     "output_type": "execute_result"
    }
   ],
   "source": [
    "# merging my 2 dataframes \n",
    "merged_df = df_billboard.merge(df_audio, left_index=True, right_index=True)\n",
    "merged_df.head()"
   ]
  },
  {
   "cell_type": "code",
   "execution_count": 157,
   "metadata": {},
   "outputs": [],
   "source": [
    "merged_df.to_csv('my_dataframe.csv')"
   ]
  }
 ],
 "metadata": {
  "kernelspec": {
   "display_name": "Python 3",
   "language": "python",
   "name": "python3"
  },
  "language_info": {
   "codemirror_mode": {
    "name": "ipython",
    "version": 3
   },
   "file_extension": ".py",
   "mimetype": "text/x-python",
   "name": "python",
   "nbconvert_exporter": "python",
   "pygments_lexer": "ipython3",
   "version": "3.7.4"
  }
 },
 "nbformat": 4,
 "nbformat_minor": 4
}
